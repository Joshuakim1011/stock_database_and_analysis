{
 "cells": [
  {
   "cell_type": "code",
   "execution_count": null,
   "metadata": {},
   "outputs": [],
   "source": [
    "import pandas as pd\n",
    "import numpy as np\n",
    "import json\n",
    "import requests\n",
    "from alpha_vantage.timeseries import TimeSeries\n",
    "import time\n",
    "# import the necessary libraries \n",
    "\n",
    "### Part 1. Getting the data\n",
    "\n",
    "\n",
    "# Import the csv file contaitng the names of S&P 100 constituents\n",
    "# I created the csv file by grabbing the list of S&P 100 constituents as of Januray \n",
    "# from https://www.ishares.com/us/products/239723/ishares-sp-100-etf\n",
    "S = pd.read_csv('sp100_csv.csv',header=0,encoding = 'unicode_escape')\n",
    "\n",
    "# use .tolist to extract just the symbols\n",
    "s = S[\"Symbol\"].tolist()\n",
    "\n",
    "\n",
    "# daily stock prices pulled from alpha vantage\n",
    "# https://www.alphavantage.co/documentation/"
   ]
  },
  {
   "cell_type": "code",
   "execution_count": 82,
   "metadata": {},
   "outputs": [],
   "source": [
    "# You have to get your own key from Alpha Vantage\n",
    "key = \"\" \n",
    "# key example:TFL55SMHAS6SEOP3"
   ]
  },
  {
   "cell_type": "code",
   "execution_count": 1,
   "metadata": {
    "scrolled": false
   },
   "outputs": [
    {
     "ename": "NameError",
     "evalue": "name 'pd' is not defined",
     "output_type": "error",
     "traceback": [
      "\u001b[1;31m---------------------------------------------------------------------------\u001b[0m",
      "\u001b[1;31mNameError\u001b[0m                                 Traceback (most recent call last)",
      "\u001b[1;32m<ipython-input-1-30c2f09f9fb4>\u001b[0m in \u001b[0;36m<module>\u001b[1;34m\u001b[0m\n\u001b[0;32m      2\u001b[0m \u001b[1;33m\u001b[0m\u001b[0m\n\u001b[0;32m      3\u001b[0m \u001b[1;31m# set up an empty dataframe that will store all data\u001b[0m\u001b[1;33m\u001b[0m\u001b[1;33m\u001b[0m\u001b[1;33m\u001b[0m\u001b[0m\n\u001b[1;32m----> 4\u001b[1;33m daily_adjusted = pd.DataFrame(\n\u001b[0m\u001b[0;32m      5\u001b[0m {\"1. open\" :[],\n\u001b[0;32m      6\u001b[0m \u001b[1;34m\"2. high\"\u001b[0m  \u001b[1;33m:\u001b[0m\u001b[1;33m[\u001b[0m\u001b[1;33m]\u001b[0m\u001b[1;33m,\u001b[0m\u001b[1;33m\u001b[0m\u001b[1;33m\u001b[0m\u001b[0m\n",
      "\u001b[1;31mNameError\u001b[0m: name 'pd' is not defined"
     ]
    }
   ],
   "source": [
    "#  getting daily_adjusted table\n",
    "\n",
    "# set up an empty dataframe that will store all data\n",
    "daily_adjusted = pd.DataFrame(\n",
    "{\"1. open\" :[],\n",
    "\"2. high\"  :[],\n",
    "\"3. low\" :[],\n",
    "\"4. close\" :[],\n",
    "\"5. adjusted close\" :[],\n",
    "\"6. volume\" :[],\n",
    "\"7. dividend amount\" :[],\n",
    "\"8. split coefficient\" :[],\n",
    "\"symbol\" :[]})\n",
    "\n",
    "\n",
    "count = 0\n",
    "# the count and time.sleep function in the for loop was added to avoid the 5 API per minute limitation of alpha advantage\n",
    "for x in s:\n",
    "    url = \"https://www.alphavantage.co/query?function=TIME_SERIES_DAILY_ADJUSTED&symbol=\"+x+\"&outputsize=full&apikey=\"+key\n",
    "    data = pd.DataFrame(requests.get(url).json()[\"Time Series (Daily)\"]).T\n",
    "    data['symbol'] = x\n",
    "    daily_adjusted = pd.concat([daily_adjusted,data])\n",
    "    data.drop(data.index, inplace=True)\n",
    "    count = count+1\n",
    "    if count%5==0:\n",
    "        time.sleep(61)\n",
    "\n",
    "daily_adjusted.info()\n",
    "\n",
    "daily_adjusted['date'] = daily_adjusted.index\n",
    "daily_adjusted.columns = ['open','high','low','close','adjusted_close','volume','dividend_amount','split_coefficient','symbol','date']\n",
    "daily_adjusted.index = range (485369)\n",
    "daily_adjusted.to_csv('daily_adjusted.csv')"
   ]
  }
 ],
 "metadata": {
  "kernelspec": {
   "display_name": "Python 3",
   "language": "python",
   "name": "python3"
  },
  "language_info": {
   "codemirror_mode": {
    "name": "ipython",
    "version": 3
   },
   "file_extension": ".py",
   "mimetype": "text/x-python",
   "name": "python",
   "nbconvert_exporter": "python",
   "pygments_lexer": "ipython3",
   "version": "3.7.1"
  }
 },
 "nbformat": 4,
 "nbformat_minor": 2
}
