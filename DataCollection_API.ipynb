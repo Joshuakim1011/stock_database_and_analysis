{
 "cells": [
  {
   "cell_type": "code",
   "execution_count": 8,
   "metadata": {},
   "outputs": [],
   "source": [
    "import pandas as pd\n",
    "import numpy as np\n",
    "import json\n",
    "import requests\n",
    "from alpha_vantage.timeseries import TimeSeries\n",
    "import time\n",
    "# import the necessary libraries \n",
    "\n",
    "### Part 1. Getting the data\n",
    "\n",
    "\n",
    "# Import the csv file contaitng the names of S&P 100 constituents\n",
    "# I created the csv file by grabbing the list of S&P 100 constituents as of Januray 2019\n",
    "# from https://www.ishares.com/us/products/239723/ishares-sp-100-etf\n",
    "S = pd.read_csv('sp100_csv.csv',header=0,encoding = 'unicode_escape')\n",
    "\n",
    "# use .tolist to extract just the symbols\n",
    "s = S.iloc[:,0].tolist()\n",
    "\n",
    "\n",
    "# daily stock prices pulled from alpha vantage\n",
    "# https://www.alphavantage.co/documentation/"
   ]
  },
  {
   "cell_type": "code",
   "execution_count": 9,
   "metadata": {},
   "outputs": [],
   "source": [
    "# You have to get your own key from Alpha Vantage\n",
    "key = \"\" \n",
    "# key example:TFL55SMHAS6SEOP2"
   ]
  },
  {
   "cell_type": "code",
   "execution_count": null,
   "metadata": {
    "scrolled": false
   },
   "outputs": [],
   "source": [
    "#  getting daily_adjusted table\n",
    "\n",
    "# set up an empty dataframe that will store all data\n",
    "daily_adjusted = pd.DataFrame(\n",
    "{\"1. open\" :[],\n",
    "\"2. high\"  :[],\n",
    "\"3. low\" :[],\n",
    "\"4. close\" :[],\n",
    "\"5. adjusted close\" :[],\n",
    "\"6. volume\" :[],\n",
    "\"7. dividend amount\" :[],\n",
    "\"8. split coefficient\" :[],\n",
    "\"symbol\" :[]})\n",
    "\n",
    "\n",
    "count = 0\n",
    "# the count and time.sleep function in the for loop was added to avoid the 5 API per minute limitation of alpha advantage\n",
    "for x in s:\n",
    "    url = \"https://www.alphavantage.co/query?function=TIME_SERIES_DAILY_ADJUSTED&symbol=\"+x+\"&outputsize=full&apikey=\"+key\n",
    "    data = pd.DataFrame(requests.get(url).json()[\"Time Series (Daily)\"]).T\n",
    "    data['symbol'] = x\n",
    "    daily_adjusted = pd.concat([daily_adjusted,data])\n",
    "    data.drop(data.index, inplace=True)\n",
    "    count = count+1\n",
    "    if count%5==0:\n",
    "        time.sleep(61)\n",
    "\n",
    "daily_adjusted.info()\n",
    "\n",
    "daily_adjusted['date'] = daily_adjusted.index\n",
    "daily_adjusted.columns = ['open','high','low','close','adjusted_close','volume','dividend_amount','split_coefficient','symbol','date']\n",
    "daily_adjusted.index = range (df.close.count())\n",
    "daily_adjusted.to_csv('daily_adjusted.csv')"
   ]
  }
 ],
 "metadata": {
  "kernelspec": {
   "display_name": "Python 3",
   "language": "python",
   "name": "python3"
  },
  "language_info": {
   "codemirror_mode": {
    "name": "ipython",
    "version": 3
   },
   "file_extension": ".py",
   "mimetype": "text/x-python",
   "name": "python",
   "nbconvert_exporter": "python",
   "pygments_lexer": "ipython3",
   "version": "3.7.1"
  }
 },
 "nbformat": 4,
 "nbformat_minor": 2
}
