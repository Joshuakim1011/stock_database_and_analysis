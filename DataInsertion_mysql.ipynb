{
 "cells": [
  {
   "cell_type": "code",
   "execution_count": 6,
   "metadata": {},
   "outputs": [],
   "source": [
    "# Importing CSV files into MYSQL\n",
    "import csv\n",
    "import MySQLdb\n",
    "\n",
    "\n",
    "######################################################\n",
    "#COMPLETE THE FOLLOWING ACCORDING TO YOUR MYSQL DATABASE\n",
    "h=''\n",
    "u=''\n",
    "db=''\n",
    "pswrd=''\n",
    "######################################################"
   ]
  },
  {
   "cell_type": "code",
   "execution_count": 61,
   "metadata": {
    "scrolled": true
   },
   "outputs": [
    {
     "name": "stdout",
     "output_type": "stream",
     "text": [
      "done\n"
     ]
    }
   ],
   "source": [
    "# Symbol table\n",
    "mydb = MySQLdb.connect(host=h,\n",
    "    user=u,\n",
    "    passwd=pswrd,\n",
    "    db=db)\n",
    "cursor = mydb.cursor()\n",
    "csv_data = csv.reader(open('sp100_csv.csv'))\n",
    "for row in csv_data:\n",
    "    cursor.execute('INSERT IGNORE INTO symbols(symbol,name) VALUES(%s, %s)', row)\n",
    "#close the connection to the database.\n",
    "mydb.commit()\n",
    "cursor.close()\n",
    "print (\"done\")"
   ]
  },
  {
   "cell_type": "code",
   "execution_count": 7,
   "metadata": {
    "scrolled": true
   },
   "outputs": [
    {
     "name": "stdout",
     "output_type": "stream",
     "text": [
      "done\n"
     ]
    }
   ],
   "source": [
    "# date conversion table\n",
    "\n",
    "# creating a list of dates\n",
    "import datetime\n",
    "import arrow\n",
    "\n",
    "\n",
    "start = datetime.datetime.strptime(\"1998-01-01\", \"%Y-%m-%d\")\n",
    "end = datetime.datetime.strptime(arrow.now().format('YYYY-MM-DD'), \"%Y-%m-%d\")\n",
    "date_generated = [start + datetime.timedelta(days=x) for x in range(0, (end-start).days)]\n",
    "\n",
    "mydb = MySQLdb.connect(host=h,\n",
    "    user=u,\n",
    "    passwd=pswrd,\n",
    "    db=db)\n",
    "cursor = mydb.cursor()\n",
    "# putting the list into mysql\n",
    "for date in date_generated:    \n",
    "    d = date.strftime(\"%Y-%m-%d\")\n",
    "    year = date.strftime(\"%Y\")\n",
    "    month = date.strftime(\"%m\")\n",
    "    day = date.strftime(\"%d\")\n",
    "    line = [d,year,month,day]\n",
    "    cursor.execute('INSERT IGNORE INTO date_conversion(date,year,month,day) VALUES(%s,%s,%s,%s)', line)\n",
    "#close the connection to the database.\n",
    "mydb.commit()\n",
    "cursor.close()\n",
    "print(\"done\")"
   ]
  },
  {
   "cell_type": "code",
   "execution_count": 5,
   "metadata": {},
   "outputs": [
    {
     "name": "stdout",
     "output_type": "stream",
     "text": [
      "done\n"
     ]
    }
   ],
   "source": [
    "# daily_stock table \n",
    "mydb = MySQLdb.connect(host=h,\n",
    "    user=u,\n",
    "    passwd=pswrd,\n",
    "    db=db)\n",
    "cursor = mydb.cursor()\n",
    "csv_data = csv.reader(open('daily_adjusted.csv'))\n",
    "headers = next(csv_data) \n",
    "count=0\n",
    "for row in csv_data:\n",
    "    count=count+1\n",
    "    cursor.execute('INSERT IGNORE INTO daily_stock(daily_id, d_open, d_high, d_low,d_close, d_adjusted_close,\\\n",
    "    d_volume, d_dividend, split, symbol, date) \\\n",
    "        VALUES(%s,%s,%s,%s,%s,%s,%s,%s,%s,%s,%s)', row)\n",
    "#close the connection to the database.\n",
    "mydb.commit()\n",
    "cursor.close()\n",
    "print(\"done\")"
   ]
  },
  {
   "cell_type": "code",
   "execution_count": 78,
   "metadata": {},
   "outputs": [
    {
     "name": "stdout",
     "output_type": "stream",
     "text": [
      "done\n"
     ]
    }
   ],
   "source": [
    "# monthly_macro table \n",
    "mydb = MySQLdb.connect(host=h,\n",
    "    user=u,\n",
    "    passwd=pswrd,\n",
    "    db=db)\n",
    "cursor = mydb.cursor()\n",
    "csv_data = csv.reader(open('monthly_macro.csv'))\n",
    "headers = next(csv_data) \n",
    "headers\n",
    "for row in csv_data:\n",
    "    cursor.execute('INSERT IGNORE INTO monthly_macro(date,unemployment, trade_balance,fed_funds,cpi,year,month) \\\n",
    "         VALUES(%s,%s,%s,%s,%s,%s,%s)', row)\n",
    "#close the connection to the database.\n",
    "mydb.commit()\n",
    "cursor.close()\n",
    "print(\"done\")"
   ]
  },
  {
   "cell_type": "code",
   "execution_count": 82,
   "metadata": {},
   "outputs": [
    {
     "name": "stdout",
     "output_type": "stream",
     "text": [
      "done\n"
     ]
    }
   ],
   "source": [
    "# monthly_stock table \n",
    "mydb = MySQLdb.connect(host=h,\n",
    "    user=u,\n",
    "    passwd=pswrd,\n",
    "    db=db)\n",
    "cursor = mydb.cursor()\n",
    "csv_data = csv.reader(open('gdp_q.csv'))\n",
    "headers = next(csv_data) \n",
    "headers\n",
    "for row in csv_data:\n",
    "    cursor.execute('INSERT IGNORE INTO gdp_q(date,gdp,gdp_percentage,year,month) VALUES(%s,%s,%s,%s,%s)', row)\n",
    "#close the connection to the database.\n",
    "mydb.commit()\n",
    "cursor.close()\n",
    "print(\"done\")"
   ]
  }
 ],
 "metadata": {
  "kernelspec": {
   "display_name": "Python 3",
   "language": "python",
   "name": "python3"
  },
  "language_info": {
   "codemirror_mode": {
    "name": "ipython",
    "version": 3
   },
   "file_extension": ".py",
   "mimetype": "text/x-python",
   "name": "python",
   "nbconvert_exporter": "python",
   "pygments_lexer": "ipython3",
   "version": "3.7.1"
  }
 },
 "nbformat": 4,
 "nbformat_minor": 2
}
